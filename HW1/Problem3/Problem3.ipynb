{
 "cells": [
  {
   "cell_type": "code",
   "execution_count": 1,
   "id": "3b4d5b79-dd7a-4185-a18d-6ffd813f1a05",
   "metadata": {
    "ExecuteTime": {
     "end_time": "2024-09-15T18:50:27.572747500Z",
     "start_time": "2024-09-15T18:50:26.317943800Z"
    },
    "collapsed": false,
    "jupyter": {
     "outputs_hidden": false
    }
   },
   "outputs": [],
   "source": [
    "import pandas as pd\n",
    "import numpy as np\n",
    "import matplotlib.pyplot as plt"
   ]
  },
  {
   "cell_type": "markdown",
   "id": "61ec03813c0437ee",
   "metadata": {
    "collapsed": false,
    "jupyter": {
     "outputs_hidden": false
    }
   },
   "source": [
    "<h1>Load and Clean Dataset<h1>"
   ]
  },
  {
   "cell_type": "code",
   "execution_count": 2,
   "id": "90ad2d39-a1e6-4aaf-8387-bc88963b6280",
   "metadata": {
    "ExecuteTime": {
     "end_time": "2024-09-15T18:50:27.620476800Z",
     "start_time": "2024-09-15T18:50:27.577922Z"
    },
    "collapsed": false,
    "jupyter": {
     "outputs_hidden": false
    }
   },
   "outputs": [],
   "source": [
    "mushroom_train = pd.read_csv(\"hw1_q3_train_data.csv\")"
   ]
  },
  {
   "cell_type": "code",
   "execution_count": 3,
   "id": "767cc389-3f5b-468d-ad1f-c0b620b2082b",
   "metadata": {
    "ExecuteTime": {
     "end_time": "2024-09-15T18:50:27.672662Z",
     "start_time": "2024-09-15T18:50:27.590589700Z"
    },
    "collapsed": false,
    "jupyter": {
     "outputs_hidden": false
    }
   },
   "outputs": [
    {
     "data": {
      "text/html": [
       "<div>\n",
       "<style scoped>\n",
       "    .dataframe tbody tr th:only-of-type {\n",
       "        vertical-align: middle;\n",
       "    }\n",
       "\n",
       "    .dataframe tbody tr th {\n",
       "        vertical-align: top;\n",
       "    }\n",
       "\n",
       "    .dataframe thead th {\n",
       "        text-align: right;\n",
       "    }\n",
       "</style>\n",
       "<table border=\"1\" class=\"dataframe\">\n",
       "  <thead>\n",
       "    <tr style=\"text-align: right;\">\n",
       "      <th></th>\n",
       "      <th>cap-diameter</th>\n",
       "      <th>cap-shape</th>\n",
       "      <th>gill-attachment</th>\n",
       "      <th>gill-color</th>\n",
       "      <th>stem-height</th>\n",
       "      <th>stem-width</th>\n",
       "      <th>stem-color</th>\n",
       "      <th>season</th>\n",
       "      <th>class</th>\n",
       "    </tr>\n",
       "  </thead>\n",
       "  <tbody>\n",
       "    <tr>\n",
       "      <th>count</th>\n",
       "      <td>432.000000</td>\n",
       "      <td>432.000000</td>\n",
       "      <td>432.000000</td>\n",
       "      <td>432.000000</td>\n",
       "      <td>432.000000</td>\n",
       "      <td>432.000000</td>\n",
       "      <td>432.000000</td>\n",
       "      <td>432.000000</td>\n",
       "      <td>432.000000</td>\n",
       "    </tr>\n",
       "    <tr>\n",
       "      <th>mean</th>\n",
       "      <td>591.319444</td>\n",
       "      <td>3.937500</td>\n",
       "      <td>2.118056</td>\n",
       "      <td>7.141204</td>\n",
       "      <td>0.785819</td>\n",
       "      <td>1077.006944</td>\n",
       "      <td>8.488426</td>\n",
       "      <td>0.946550</td>\n",
       "      <td>0.548611</td>\n",
       "    </tr>\n",
       "    <tr>\n",
       "      <th>std</th>\n",
       "      <td>375.282674</td>\n",
       "      <td>2.209089</td>\n",
       "      <td>2.192044</td>\n",
       "      <td>3.169016</td>\n",
       "      <td>0.700045</td>\n",
       "      <td>799.469663</td>\n",
       "      <td>3.130548</td>\n",
       "      <td>0.292916</td>\n",
       "      <td>0.498208</td>\n",
       "    </tr>\n",
       "    <tr>\n",
       "      <th>min</th>\n",
       "      <td>27.000000</td>\n",
       "      <td>0.000000</td>\n",
       "      <td>0.000000</td>\n",
       "      <td>0.000000</td>\n",
       "      <td>0.007532</td>\n",
       "      <td>0.000000</td>\n",
       "      <td>1.000000</td>\n",
       "      <td>0.027372</td>\n",
       "      <td>0.000000</td>\n",
       "    </tr>\n",
       "    <tr>\n",
       "      <th>25%</th>\n",
       "      <td>312.750000</td>\n",
       "      <td>2.000000</td>\n",
       "      <td>0.000000</td>\n",
       "      <td>5.000000</td>\n",
       "      <td>0.253448</td>\n",
       "      <td>465.500000</td>\n",
       "      <td>6.000000</td>\n",
       "      <td>0.888450</td>\n",
       "      <td>0.000000</td>\n",
       "    </tr>\n",
       "    <tr>\n",
       "      <th>50%</th>\n",
       "      <td>546.000000</td>\n",
       "      <td>5.000000</td>\n",
       "      <td>1.000000</td>\n",
       "      <td>7.000000</td>\n",
       "      <td>0.616743</td>\n",
       "      <td>951.500000</td>\n",
       "      <td>11.000000</td>\n",
       "      <td>0.943195</td>\n",
       "      <td>1.000000</td>\n",
       "    </tr>\n",
       "    <tr>\n",
       "      <th>75%</th>\n",
       "      <td>795.500000</td>\n",
       "      <td>6.000000</td>\n",
       "      <td>4.000000</td>\n",
       "      <td>10.000000</td>\n",
       "      <td>1.110564</td>\n",
       "      <td>1525.000000</td>\n",
       "      <td>11.000000</td>\n",
       "      <td>0.943195</td>\n",
       "      <td>1.000000</td>\n",
       "    </tr>\n",
       "    <tr>\n",
       "      <th>max</th>\n",
       "      <td>1866.000000</td>\n",
       "      <td>6.000000</td>\n",
       "      <td>6.000000</td>\n",
       "      <td>11.000000</td>\n",
       "      <td>3.747782</td>\n",
       "      <td>3444.000000</td>\n",
       "      <td>12.000000</td>\n",
       "      <td>1.804273</td>\n",
       "      <td>1.000000</td>\n",
       "    </tr>\n",
       "  </tbody>\n",
       "</table>\n",
       "</div>"
      ],
      "text/plain": [
       "       cap-diameter   cap-shape  gill-attachment  gill-color  stem-height  \\\n",
       "count    432.000000  432.000000       432.000000  432.000000   432.000000   \n",
       "mean     591.319444    3.937500         2.118056    7.141204     0.785819   \n",
       "std      375.282674    2.209089         2.192044    3.169016     0.700045   \n",
       "min       27.000000    0.000000         0.000000    0.000000     0.007532   \n",
       "25%      312.750000    2.000000         0.000000    5.000000     0.253448   \n",
       "50%      546.000000    5.000000         1.000000    7.000000     0.616743   \n",
       "75%      795.500000    6.000000         4.000000   10.000000     1.110564   \n",
       "max     1866.000000    6.000000         6.000000   11.000000     3.747782   \n",
       "\n",
       "        stem-width  stem-color      season       class  \n",
       "count   432.000000  432.000000  432.000000  432.000000  \n",
       "mean   1077.006944    8.488426    0.946550    0.548611  \n",
       "std     799.469663    3.130548    0.292916    0.498208  \n",
       "min       0.000000    1.000000    0.027372    0.000000  \n",
       "25%     465.500000    6.000000    0.888450    0.000000  \n",
       "50%     951.500000   11.000000    0.943195    1.000000  \n",
       "75%    1525.000000   11.000000    0.943195    1.000000  \n",
       "max    3444.000000   12.000000    1.804273    1.000000  "
      ]
     },
     "execution_count": 3,
     "metadata": {},
     "output_type": "execute_result"
    }
   ],
   "source": [
    "sta = mushroom_train.describe()\n",
    "sta"
   ]
  },
  {
   "cell_type": "code",
   "execution_count": 4,
   "id": "1aa7d73a-5768-4a01-975e-fcb063ad3084",
   "metadata": {
    "ExecuteTime": {
     "end_time": "2024-09-15T18:50:27.674688600Z",
     "start_time": "2024-09-15T18:50:27.622505300Z"
    },
    "collapsed": false,
    "jupyter": {
     "outputs_hidden": false
    }
   },
   "outputs": [
    {
     "data": {
      "text/plain": [
       "cap-diameter       0\n",
       "cap-shape          0\n",
       "gill-attachment    0\n",
       "gill-color         0\n",
       "stem-height        0\n",
       "stem-width         0\n",
       "stem-color         0\n",
       "season             0\n",
       "class              0\n",
       "dtype: int64"
      ]
     },
     "execution_count": 4,
     "metadata": {},
     "output_type": "execute_result"
    }
   ],
   "source": [
    "mushroom_train.isna().sum()"
   ]
  },
  {
   "cell_type": "code",
   "execution_count": 5,
   "id": "92dcf7e2-f57d-40ad-9b1e-31e8e1326f2d",
   "metadata": {
    "ExecuteTime": {
     "end_time": "2024-09-15T18:50:27.674688600Z",
     "start_time": "2024-09-15T18:50:27.632215Z"
    },
    "collapsed": false,
    "jupyter": {
     "outputs_hidden": false
    }
   },
   "outputs": [],
   "source": [
    "for col in mushroom_train.columns.drop('class'):\n",
    "    mean = sta[col].loc['mean']\n",
    "    std = sta[col].loc['std']\n",
    "    mushroom_train[col] = (mushroom_train[col] - mean) / std"
   ]
  },
  {
   "cell_type": "code",
   "execution_count": 6,
   "id": "8371f9404bce198",
   "metadata": {
    "ExecuteTime": {
     "end_time": "2024-09-15T18:50:27.675812200Z",
     "start_time": "2024-09-15T18:50:27.644892400Z"
    },
    "collapsed": false,
    "jupyter": {
     "outputs_hidden": false
    }
   },
   "outputs": [],
   "source": [
    "mushroom_test = pd.read_csv(\"hw1_q3_test_data.csv\")"
   ]
  },
  {
   "cell_type": "code",
   "execution_count": 7,
   "id": "a53d6ed96abb94d1",
   "metadata": {
    "ExecuteTime": {
     "end_time": "2024-09-15T18:50:27.675812200Z",
     "start_time": "2024-09-15T18:50:27.651332600Z"
    },
    "collapsed": false,
    "jupyter": {
     "outputs_hidden": false
    }
   },
   "outputs": [],
   "source": [
    "for col in mushroom_test.columns.drop('class'):\n",
    "    mean = sta[col].loc['mean']\n",
    "    std = sta[col].loc['std']\n",
    "    mushroom_test[col] = (mushroom_test[col] - mean) / std "
   ]
  },
  {
   "cell_type": "markdown",
   "id": "40a539db67459989",
   "metadata": {
    "collapsed": false,
    "jupyter": {
     "outputs_hidden": false
    }
   },
   "source": [
    "<h3>Problem (a) (i)<h3>"
   ]
  },
  {
   "cell_type": "markdown",
   "id": "a326afce1e35b532",
   "metadata": {
    "collapsed": false,
    "jupyter": {
     "outputs_hidden": false
    }
   },
   "source": [
    "We first derive mean and standard deviation for each variable in train set and use z-score to normalize them. Then we apply these means and stds to corresponding variables in test set and use z-score again to normalize."
   ]
  },
  {
   "cell_type": "markdown",
   "id": "ba8d58350e8c53e1",
   "metadata": {
    "collapsed": false,
    "jupyter": {
     "outputs_hidden": false
    }
   },
   "source": [
    "<h3>Problem (a) (ii)<h3>"
   ]
  },
  {
   "cell_type": "markdown",
   "id": "a260cad6b76a6c4f",
   "metadata": {
    "collapsed": false,
    "jupyter": {
     "outputs_hidden": false
    }
   },
   "source": [
    "I think F1 scores are better because the training set is a little bit imbalanced. And since we care much more about false positive (because classifying a poisonous mushroom into edible!), F1 scores can provide us with some information about fp."
   ]
  },
  {
   "cell_type": "markdown",
   "id": "67f9ee42af035cdc",
   "metadata": {
    "collapsed": false,
    "jupyter": {
     "outputs_hidden": false
    }
   },
   "source": [
    "<h1>Build KNN<h1>"
   ]
  },
  {
   "cell_type": "code",
   "execution_count": 8,
   "id": "ba955df97f3d8ff9",
   "metadata": {
    "ExecuteTime": {
     "end_time": "2024-09-15T18:50:27.675812200Z",
     "start_time": "2024-09-15T18:50:27.664042300Z"
    },
    "collapsed": false,
    "jupyter": {
     "outputs_hidden": false
    }
   },
   "outputs": [],
   "source": [
    "# Euclidean Distance\n",
    "def ed(x1,x2):\n",
    "    return np.linalg.norm(x1 - x2)\n",
    "\n",
    "# Manhattan Distance\n",
    "def md(x1, x2):\n",
    "    x1 = np.array(x1)\n",
    "    x2 = np.array(x2)\n",
    "    return np.sum(np.abs(x1 - x2))\n",
    "\n",
    "# Chebyshev Distance\n",
    "def cd(x1, x2):\n",
    "    x1 = np.array(x1)\n",
    "    x2 = np.array(x2)\n",
    "    return np.max(np.abs(x1 - x2))\n",
    "\n",
    "dis = {\n",
    "    \"ed\": ed,\n",
    "    \"md\": md,\n",
    "    \"cd\": cd\n",
    "}"
   ]
  },
  {
   "cell_type": "code",
   "execution_count": 9,
   "id": "2fe2b338fb7b631f",
   "metadata": {
    "ExecuteTime": {
     "end_time": "2024-09-15T18:50:27.717546100Z",
     "start_time": "2024-09-15T18:50:27.679064900Z"
    },
    "collapsed": false,
    "jupyter": {
     "outputs_hidden": false
    }
   },
   "outputs": [],
   "source": [
    "class KNN:\n",
    "    def __init__(self, k, t, m):\n",
    "        self.k = k\n",
    "        self.threshold = t\n",
    "        self.method = m\n",
    "        \n",
    "    def fit(self, X_train , y_train):\n",
    "        self.X_train = X_train\n",
    "        self.y_train = y_train\n",
    "    \n",
    "    def predict(self, X_test):\n",
    "        results = []\n",
    "        results = [self._predict(x) for x in X_test.values]\n",
    "        return np.array(results)\n",
    "    \n",
    "    def _predict(self, x):\n",
    "        n1 = 0\n",
    "        distances = []\n",
    "        k_indices = []\n",
    "        k_nearest_labels = []\n",
    "        \n",
    "        # calculate the distance between all samples in training set and this sample x. \n",
    "        d = dis[self.method]\n",
    "        distance = [d(x, x_train) for x_train in self.X_train.values]\n",
    "        # print(distance)\n",
    "        \n",
    "        # fetch indices of k nearest samples\n",
    "        k_indices = np.argsort(distance)[:int(self.k)]\n",
    "\n",
    "        # get labels\n",
    "        k_nearest_labels = [self.y_train[i] for i in k_indices]\n",
    "        \n",
    "        # vote for the most frequent label and then return. since it is a binary classification, we can transfer this problem to see which label occupies more than 50% of the label set.\n",
    "        for i in k_nearest_labels:\n",
    "            if i == 1:\n",
    "                n1 = n1 + 1\n",
    "        if n1/len(k_nearest_labels) > self.threshold:\n",
    "            label = 1\n",
    "        else:\n",
    "            label = 0\n",
    "        return  label\n",
    "    \n",
    "    def accuracy(self, y_true, y_pred):\n",
    "        return np.sum(y_true == y_pred) / len(y_true)\n",
    "\n",
    "    def precision(self, y_true, y_pred):\n",
    "        tp = np.sum((y_pred == 1) & (y_true == 1))\n",
    "        fp = np.sum((y_pred == 1) & (y_true == 0))\n",
    "        return tp / (tp + fp) if (tp + fp) > 0 else 0\n",
    "    \n",
    "    def recall(self, y_true, y_pred):\n",
    "        tp = np.sum((y_pred == 1) & (y_true == 1))\n",
    "        fn = np.sum((y_pred == 0) & (y_true == 1))\n",
    "        return tp / (tp + fn) if (tp + fn) > 0 else 0\n",
    "    \n",
    "    def f1_score(self, y_true, y_pred):\n",
    "        p = self.precision(y_true, y_pred)\n",
    "        r = self.recall(y_true, y_pred)\n",
    "        return 2 * (p * r) / (p + r) if (p + r) > 0 else 0\n",
    "    \n",
    "    def tpr_fpr(self, y_true, y_pred):\n",
    "        tp = np.sum((y_pred == 1) & (y_true == 1))\n",
    "        fn = np.sum((y_pred == 0) & (y_true == 1))\n",
    "        fp = np.sum((y_pred == 1) & (y_true == 0))\n",
    "        tn = np.sum((y_pred == 0) & (y_true == 0))\n",
    "        \n",
    "        tpr = tp / (tp + fn) if (tp + fn) > 0 else 0\n",
    "        fpr = fp / (fp + tn) if (fp + tn) > 0 else 0\n",
    "        return tpr, fpr"
   ]
  },
  {
   "cell_type": "markdown",
   "id": "6faf8c67ff483f91",
   "metadata": {
    "collapsed": false,
    "jupyter": {
     "outputs_hidden": false
    }
   },
   "source": [
    "<h3>Problem (b) (i)<h3>"
   ]
  },
  {
   "cell_type": "code",
   "execution_count": 10,
   "id": "30b881595d91b2be",
   "metadata": {
    "ExecuteTime": {
     "end_time": "2024-09-15T18:50:28.573118800Z",
     "start_time": "2024-09-15T18:50:27.686653300Z"
    },
    "collapsed": false,
    "jupyter": {
     "outputs_hidden": false
    }
   },
   "outputs": [
    {
     "name": "stdout",
     "output_type": "stream",
     "text": [
      "Accuracy: 0.6265432098765432\n",
      "Precision: 0.689873417721519\n",
      "Recall: 0.6022099447513812\n",
      "F1 Score: 0.6430678466076696\n"
     ]
    }
   ],
   "source": [
    "knn = KNN(k=round(np.sqrt(len(mushroom_train)),0),t=0.5,m=\"ed\")\n",
    "\n",
    "#get training set and test set\n",
    "X_train = mushroom_train.drop(columns = ['class'])\n",
    "y_train = mushroom_train['class']\n",
    "X_test = mushroom_test.drop(columns = ['class'])\n",
    "y_test = mushroom_test['class']\n",
    "\n",
    "X_train.columns = range(X_train.shape[1])\n",
    "X_test.columns = range(X_test.shape[1])\n",
    "\n",
    "knn.fit(X_train, y_train)\n",
    "y_pred = knn.predict(X_test)\n",
    "\n",
    "accuracy = knn.accuracy(y_test,y_pred)\n",
    "f1_scores = knn.f1_score(y_test, y_pred)\n",
    "precisions = knn.precision(y_test, y_pred)\n",
    "recalls = knn.recall(y_test, y_pred)\n",
    "\n",
    "print(f\"Accuracy: {accuracy}\")\n",
    "print(f\"Precision: {precisions}\")\n",
    "print(f\"Recall: {recalls}\")\n",
    "print(f\"F1 Score: {f1_scores}\")"
   ]
  },
  {
   "cell_type": "markdown",
   "id": "87e661fb0abc3de7",
   "metadata": {
    "collapsed": false,
    "jupyter": {
     "outputs_hidden": false
    }
   },
   "source": [
    "<h1>Change Threshold<h1>"
   ]
  },
  {
   "cell_type": "markdown",
   "id": "2f3792909f477761",
   "metadata": {
    "collapsed": false,
    "jupyter": {
     "outputs_hidden": false
    }
   },
   "source": [
    "<h3>Problem (b) (ii)<h3>"
   ]
  },
  {
   "cell_type": "code",
   "execution_count": 11,
   "id": "bcbdf0c6a2deee7b",
   "metadata": {
    "ExecuteTime": {
     "end_time": "2024-09-15T18:50:29.174011500Z",
     "start_time": "2024-09-15T18:50:28.356454700Z"
    },
    "collapsed": false,
    "jupyter": {
     "outputs_hidden": false
    }
   },
   "outputs": [
    {
     "name": "stdout",
     "output_type": "stream",
     "text": [
      "Accuracy: 0.6265432098765432\n",
      "Precision: 0.689873417721519\n",
      "Recall: 0.6022099447513812\n",
      "F1 Score: 0.6430678466076696\n"
     ]
    }
   ],
   "source": [
    "_knn = KNN(k=round(np.sqrt(len(mushroom_train)),0),t=0.5,m=\"ed\")\n",
    "\n",
    "# get training set and test set\n",
    "X_train = mushroom_train.drop(columns = ['class'])\n",
    "y_train = mushroom_train['class']\n",
    "X_test = mushroom_test.drop(columns = ['class'])\n",
    "y_test = mushroom_test['class']\n",
    "\n",
    "X_train.columns = range(X_train.shape[1])\n",
    "X_test.columns = range(X_test.shape[1])\n",
    "\n",
    "_knn.fit(X_train, y_train)\n",
    "y_pred = _knn.predict(X_test)\n",
    "\n",
    "accuracy = _knn.accuracy(y_test,y_pred)\n",
    "f1_scores = _knn.f1_score(y_test, y_pred)\n",
    "precisions = _knn.precision(y_test, y_pred)\n",
    "recalls = _knn.recall(y_test, y_pred)\n",
    "\n",
    "print(f\"Accuracy: {accuracy}\")\n",
    "print(f\"Precision: {precisions}\")\n",
    "print(f\"Recall: {recalls}\")\n",
    "print(f\"F1 Score: {f1_scores}\")"
   ]
  },
  {
   "cell_type": "markdown",
   "id": "1f69836380766ae",
   "metadata": {
    "collapsed": false,
    "jupyter": {
     "outputs_hidden": false
    }
   },
   "source": [
    "<h1>Hyperparameter tuning with cross validation<h1>"
   ]
  },
  {
   "cell_type": "markdown",
   "id": "779a9acc6febebb7",
   "metadata": {
    "collapsed": false,
    "jupyter": {
     "outputs_hidden": false
    }
   },
   "source": [
    "<h3>Problem (c) (i)<h3>"
   ]
  },
  {
   "cell_type": "code",
   "execution_count": 12,
   "id": "460961abc672fc2d",
   "metadata": {
    "ExecuteTime": {
     "end_time": "2024-09-15T18:50:29.181288400Z",
     "start_time": "2024-09-15T18:50:29.179379200Z"
    },
    "collapsed": false,
    "jupyter": {
     "outputs_hidden": false
    }
   },
   "outputs": [],
   "source": [
    "# Euclidean Distance\n",
    "def ed(x1,x2):\n",
    "    return np.linalg.norm(x1 - x2)\n",
    "\n",
    "# Manhattan Distance\n",
    "def md(x1, x2):\n",
    "    x1 = np.array(x1)\n",
    "    x2 = np.array(x2)\n",
    "    return np.sum(np.abs(x1 - x2))\n",
    "\n",
    "# Chebyshev Distance\n",
    "def cd(x1, x2):\n",
    "    x1 = np.array(x1)\n",
    "    x2 = np.array(x2)\n",
    "    return np.max(np.abs(x1 - x2))"
   ]
  },
  {
   "cell_type": "code",
   "execution_count": 13,
   "id": "9f36f5244d0fd78b",
   "metadata": {
    "ExecuteTime": {
     "end_time": "2024-09-15T18:51:26.526153300Z",
     "start_time": "2024-09-15T18:50:29.193049Z"
    },
    "collapsed": false,
    "jupyter": {
     "outputs_hidden": false
    }
   },
   "outputs": [
    {
     "data": {
      "image/png": "[encoded data removed]",
      "text/plain": [
       "<Figure size 1000x600 with 1 Axes>"
      ]
     },
     "metadata": {},
     "output_type": "display_data"
    },
    {
     "name": "stdout",
     "output_type": "stream",
     "text": [
      "Best average F1 score on validation set: 0.7722772277227722\n",
      "Best k: 5, best method: ed\n"
     ]
    }
   ],
   "source": [
    "X_t = pd.read_csv(\"hw1_q3_train_data.csv\").drop(columns=['class'])\n",
    "y_t = pd.read_csv(\"hw1_q3_train_data.csv\")['class']\n",
    "\n",
    "X_t.columns = range(X_train.shape[1])\n",
    "\n",
    "# 5-fold CV\n",
    "k_folds = 5\n",
    "n = X_t.shape[0]\n",
    "fold_size = n // k_folds\n",
    "\n",
    "indices = np.random.permutation(n)\n",
    "\n",
    "for fold in range(k_folds):\n",
    "    # Split training set and validation set\n",
    "    val_indices = indices[fold * fold_size: (fold + 1) * fold_size]\n",
    "    train_indices = np.concatenate([indices[:fold * fold_size], indices[(fold + 1) * fold_size:]])\n",
    "\n",
    "    X_train = X_t.iloc[train_indices]\n",
    "    y_train = y_t.iloc[train_indices]\n",
    "    \n",
    "    X_val = X_t.iloc[val_indices]\n",
    "    y_val = y_t.iloc[val_indices]\n",
    "    \n",
    "    # Noramlization\n",
    "    mean = np.mean(X_train, axis=0)\n",
    "    std = np.std(X_train, axis=0)\n",
    "\n",
    "    X_train = (X_train - mean) / std\n",
    "    X_val = (X_val - mean) / std\n",
    "    \n",
    "    X_train = X_train.reset_index(drop=True)\n",
    "    y_train = y_train.reset_index(drop=True)\n",
    "    \n",
    "    # Tuning\n",
    "    knn_model_list = {}\n",
    "    f1_scores_drawing = []\n",
    "    \n",
    "    for k in range(3,25,1):\n",
    "        for method in [\"ed\",\"md\",\"cd\"]:\n",
    "            y_val_pred = []\n",
    "            f1_scores = 0\n",
    "            \n",
    "            knn_model_list[(k, method)] = KNN(k=k,t=0.5,m=method)\n",
    "            knn_model_list[(k, method)].fit(X_train, y_train)\n",
    "        \n",
    "            y_val_pred = knn_model_list[(k, method)].predict(X_val)\n",
    "            f1_scores = knn_model_list[(k, method)].f1_score(y_val,y_val_pred)\n",
    "            f1_scores_drawing.append({\"k\": k, \"method\": method, \"f1_score\": f1_scores, \"fold\": fold})\n",
    "            \n",
    "f1_scores_drawing = pd.DataFrame(f1_scores_drawing)\n",
    "\n",
    "# Calculate average F1 scores\n",
    "f1_scores_drawing = f1_scores_drawing.groupby(['k', 'method'], as_index=False).mean()\n",
    "\n",
    "# Plot the results\n",
    "plt.figure(figsize=(10, 6))\n",
    "\n",
    "for method in f1_scores_drawing['method'].unique():\n",
    "    data_by_method = f1_scores_drawing[f1_scores_drawing['method'] == method]\n",
    "    plt.plot(data_by_method['k'], data_by_method['f1_score'], label=f\"Method: {method}\")\n",
    "\n",
    "plt.title(\"Average F1 Scores\")\n",
    "plt.xlabel(\"K\")\n",
    "plt.ylabel(\"Average F1 Score\")\n",
    "plt.legend()\n",
    "plt.grid(True)\n",
    "\n",
    "plt.show()\n",
    "\n",
    "# Find the best parameter\n",
    "best_parameter_index = f1_scores_drawing['f1_score'].idxmax()\n",
    "\n",
    "best_k = f1_scores_drawing.loc[best_parameter_index, 'k']\n",
    "best_method = f1_scores_drawing.loc[best_parameter_index, 'method']\n",
    "best_f1_score = f1_scores_drawing.loc[best_parameter_index, 'f1_score']\n",
    "\n",
    "print(f\"Best average F1 score on validation set: {best_f1_score}\")\n",
    "print(f\"Best k: {best_k}, best method: {best_method}\")"
   ]
  },
  {
   "cell_type": "markdown",
   "id": "2b4061d7f29f0d62",
   "metadata": {
    "collapsed": false,
    "jupyter": {
     "outputs_hidden": false
    }
   },
   "source": [
    "<h1> Applying Best Parameter to Test Set<h1>"
   ]
  },
  {
   "cell_type": "markdown",
   "id": "be24b74fc0b3a782",
   "metadata": {
    "collapsed": false,
    "jupyter": {
     "outputs_hidden": false
    }
   },
   "source": [
    "<h3> Problem (c) (ii)<h3>"
   ]
  },
  {
   "cell_type": "code",
   "execution_count": 14,
   "id": "77a8ef08971aa3bf",
   "metadata": {
    "ExecuteTime": {
     "end_time": "2024-09-15T18:51:27.456362800Z",
     "start_time": "2024-09-15T18:51:26.531706100Z"
    },
    "collapsed": false,
    "jupyter": {
     "outputs_hidden": false
    }
   },
   "outputs": [
    {
     "name": "stdout",
     "output_type": "stream",
     "text": [
      "F1 Score: 0.7787114845938375\n"
     ]
    }
   ],
   "source": [
    "knn_best = KNN(k=best_k,t=0.5,m=best_method)\n",
    "\n",
    "X_train = mushroom_train.drop(columns = ['class'])\n",
    "y_train = mushroom_train['class']\n",
    "X_test = mushroom_test.drop(columns = ['class'])\n",
    "y_test = mushroom_test['class']\n",
    "\n",
    "X_train.columns = range(X_train.shape[1])\n",
    "X_test.columns = range(X_test.shape[1])\n",
    "\n",
    "knn_best.fit(X_train, y_train)\n",
    "y_pred = knn_best.predict(X_test)\n",
    "\n",
    "f1_scores = knn_best.f1_score(y_test, y_pred)\n",
    "\n",
    "print(f\"F1 Score: {f1_scores}\")"
   ]
  },
  {
   "cell_type": "markdown",
   "id": "df942ce6ece3ef7e",
   "metadata": {
    "collapsed": false,
    "jupyter": {
     "outputs_hidden": false
    }
   },
   "source": [
    "<h1>ROC Curve and AUC<h1>"
   ]
  },
  {
   "cell_type": "markdown",
   "id": "70f6d0f050d69c4f",
   "metadata": {
    "collapsed": false,
    "jupyter": {
     "outputs_hidden": false
    }
   },
   "source": [
    "<h3> Problem (d) (i)<h3>"
   ]
  },
  {
   "cell_type": "code",
   "execution_count": 15,
   "id": "46e626a0c642b494",
   "metadata": {
    "ExecuteTime": {
     "end_time": "2024-09-15T18:52:30.824584500Z",
     "start_time": "2024-09-15T18:51:27.460364800Z"
    },
    "collapsed": false,
    "jupyter": {
     "outputs_hidden": false
    }
   },
   "outputs": [
    {
     "data": {
      "image/png": "[encoded data removed]",
      "text/plain": [
       "<Figure size 640x480 with 1 Axes>"
      ]
     },
     "metadata": {},
     "output_type": "display_data"
    }
   ],
   "source": [
    "X_train = mushroom_train.drop(columns = ['class'])\n",
    "y_train = mushroom_train['class']\n",
    "X_test = mushroom_test.drop(columns = ['class'])\n",
    "y_test = mushroom_test['class']\n",
    "\n",
    "X_train.columns = range(X_train.shape[1])\n",
    "X_test.columns = range(X_test.shape[1])\n",
    "\n",
    "knn = KNN(k=round(np.sqrt(len(mushroom_train)),0),t=0.5,m=\"ed\")\n",
    "knn.fit(X_train, y_train)\n",
    "\n",
    "thresholds = np.linspace(0, 1, 100)\n",
    "tpr_list = []\n",
    "fpr_list = []\n",
    "\n",
    "# Get tpr and fpr\n",
    "for t in thresholds:\n",
    "    knn.threshold = t\n",
    "    y_pred = knn.predict(X_test)\n",
    "    tpr, fpr = knn.tpr_fpr(y_test, y_pred)\n",
    "    tpr_list.append(tpr)\n",
    "    fpr_list.append(fpr)\n",
    "\n",
    "# Draw ROC Curve\n",
    "plt.figure()\n",
    "plt.plot(fpr_list, tpr_list, marker='.')\n",
    "plt.title('ROC Curve')\n",
    "plt.xlabel('FPR')\n",
    "plt.ylabel('TPR')\n",
    "plt.grid(True)\n",
    "plt.show()"
   ]
  },
  {
   "cell_type": "markdown",
   "id": "a3ad906dcc366271",
   "metadata": {
    "collapsed": false,
    "jupyter": {
     "outputs_hidden": false
    }
   },
   "source": [
    "<h3> Problem (d) (ii)<h3>"
   ]
  },
  {
   "cell_type": "code",
   "execution_count": 16,
   "id": "7378020fc125eec1",
   "metadata": {
    "ExecuteTime": {
     "end_time": "2024-09-15T18:52:30.830083700Z",
     "start_time": "2024-09-15T18:52:30.827013700Z"
    },
    "collapsed": false,
    "jupyter": {
     "outputs_hidden": false
    }
   },
   "outputs": [
    {
     "name": "stdout",
     "output_type": "stream",
     "text": [
      "AUC:0.6851601437236796\n"
     ]
    }
   ],
   "source": [
    "def auc(fpr_list, tpr_list):\n",
    "    auc = 0\n",
    "    for i in range(1, len(fpr_list)):\n",
    "        auc = auc + (fpr_list[i - 1] - fpr_list[i]) * (tpr_list[i] + tpr_list[i - 1]) / 2\n",
    "    return auc\n",
    "\n",
    "auc = auc(fpr_list, tpr_list)\n",
    "print(f\"AUC:{auc}\")"
   ]
  },
  {
   "cell_type": "code",
   "execution_count": null,
   "id": "3356748f-e3c5-45b3-8ad2-1684d7902baa",
   "metadata": {},
   "outputs": [],
   "source": []
  }
 ],
 "metadata": {
  "kernelspec": {
   "display_name": "Python 3 (ipykernel)",
   "language": "python",
   "name": "python3"
  },
  "language_info": {
   "codemirror_mode": {
    "name": "ipython",
    "version": 3
   },
   "file_extension": ".py",
   "mimetype": "text/x-python",
   "name": "python",
   "nbconvert_exporter": "python",
   "pygments_lexer": "ipython3",
   "version": "3.11.5"
  }
 },
 "nbformat": 4,
 "nbformat_minor": 5
}
