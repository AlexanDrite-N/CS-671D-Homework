{
 "cells": [
  {
   "cell_type": "code",
   "execution_count": 1,
   "id": "bb4c0b5e-040e-40a1-9084-845a4ed84e31",
   "metadata": {
    "ExecuteTime": {
     "end_time": "2024-09-16T15:30:00.055633700Z",
     "start_time": "2024-09-16T15:29:58.289378800Z"
    }
   },
   "outputs": [],
   "source": [
    "import pandas as pd\n",
    "import numpy as np\n",
    "from sklearn.model_selection import train_test_split, KFold, cross_val_score, GridSearchCV\n",
    "from sklearn.linear_model import LogisticRegression\n",
    "from sklearn.datasets import load_breast_cancer\n",
    "from sklearn.tree import DecisionTreeClassifier\n",
    "from sklearn.neighbors import KNeighborsClassifier\n",
    "import warnings\n",
    "warnings.filterwarnings('ignore')"
   ]
  },
  {
   "cell_type": "code",
   "execution_count": 2,
   "outputs": [],
   "source": [
    "cancer = load_breast_cancer()\n",
    "df = pd.DataFrame(cancer.data, columns=cancer.feature_names)\n",
    "df['target'] = pd.Series(cancer.target)\n",
    "df['target'] = 1 - df['target']"
   ],
   "metadata": {
    "collapsed": false,
    "ExecuteTime": {
     "end_time": "2024-09-16T15:30:00.081163500Z",
     "start_time": "2024-09-16T15:30:00.059647Z"
    }
   },
   "id": "a0e68f59ea3b8b30"
  },
  {
   "cell_type": "markdown",
   "source": [
    "<h1>(a) Simple Logistic Regression<h1>"
   ],
   "metadata": {
    "collapsed": false
   },
   "id": "306725aef56a978b"
  },
  {
   "cell_type": "code",
   "execution_count": 3,
   "outputs": [
    {
     "name": "stdout",
     "output_type": "stream",
     "text": [
      "Mean Accuracy: 0.9420431609998448\n",
      "Mean Precision: 0.939346405228758\n",
      "Mean Recall: 0.9006361754187842\n",
      "Mean F1-score: 0.9298841334344268\n"
     ]
    }
   ],
   "source": [
    "X = df[['worst concave points','worst radius','worst texture']]\n",
    "y = df['target']\n",
    "\n",
    "log_reg = LogisticRegression()\n",
    "\n",
    "k_fold = KFold(n_splits=5, shuffle=True)\n",
    "scoring = {\n",
    "    'accuracy': 'accuracy',\n",
    "    'precision': 'precision',\n",
    "    'recall': 'recall',\n",
    "    'f1': 'f1'\n",
    "}\n",
    "\n",
    "# Perform CV for each metric\n",
    "results = {}\n",
    "for metric in scoring:\n",
    "    results[metric] = cross_val_score(log_reg, X, y, cv=k_fold, scoring=scoring[metric])\n",
    "\n",
    "# Report mean of each metric across the 5 folds\n",
    "mean_accuracy = np.mean(results['accuracy'])\n",
    "mean_precision = np.mean(results['precision'])\n",
    "mean_recall = np.mean(results['recall'])\n",
    "mean_f1 = np.mean(results['f1'])\n",
    "\n",
    "# Print the results\n",
    "print(f\"Mean Accuracy: {mean_accuracy}\")\n",
    "print(f\"Mean Precision: {mean_precision}\")\n",
    "print(f\"Mean Recall: {mean_recall}\")\n",
    "print(f\"Mean F1-score: {mean_f1}\")"
   ],
   "metadata": {
    "collapsed": false,
    "ExecuteTime": {
     "end_time": "2024-09-16T15:30:00.287383500Z",
     "start_time": "2024-09-16T15:30:00.082162Z"
    }
   },
   "id": "aac3159655668e00"
  },
  {
   "cell_type": "markdown",
   "source": [
    "<h1>(b) Full Logistic Regression<h1>"
   ],
   "metadata": {
    "collapsed": false
   },
   "id": "5e428de41a91c0a"
  },
  {
   "cell_type": "code",
   "execution_count": 4,
   "outputs": [
    {
     "name": "stdout",
     "output_type": "stream",
     "text": [
      "Mean Accuracy: 0.9473063188945815\n",
      "Mean Precision: 0.9424027570222911\n",
      "Mean Recall: 0.9311556887717172\n",
      "Mean F1-score: 0.9203166691872081\n"
     ]
    }
   ],
   "source": [
    "X = df.drop(columns=['target'])\n",
    "y = df['target']\n",
    "\n",
    "# Perform CV for each metric\n",
    "results = {}\n",
    "for metric in scoring:\n",
    "    results[metric] = cross_val_score(log_reg, X, y, cv=k_fold, scoring=scoring[metric])\n",
    "\n",
    "# Report mean of each metric across the 5 folds\n",
    "mean_accuracy = np.mean(results['accuracy'])\n",
    "mean_precision = np.mean(results['precision'])\n",
    "mean_recall = np.mean(results['recall'])\n",
    "mean_f1 = np.mean(results['f1'])\n",
    "\n",
    "# Print the results\n",
    "print(f\"Mean Accuracy: {mean_accuracy}\")\n",
    "print(f\"Mean Precision: {mean_precision}\")\n",
    "print(f\"Mean Recall: {mean_recall}\")\n",
    "print(f\"Mean F1-score: {mean_f1}\")"
   ],
   "metadata": {
    "collapsed": false,
    "ExecuteTime": {
     "end_time": "2024-09-16T15:30:00.637672500Z",
     "start_time": "2024-09-16T15:30:00.274057400Z"
    }
   },
   "id": "b35d7620b64b075e"
  },
  {
   "cell_type": "markdown",
   "source": [
    "<h1>(c) Decision Tree<h1>"
   ],
   "metadata": {
    "collapsed": false
   },
   "id": "1f5236530ba99326"
  },
  {
   "cell_type": "code",
   "execution_count": 5,
   "outputs": [
    {
     "name": "stdout",
     "output_type": "stream",
     "text": [
      "Hyperparameters: {'criterion': 'gini', 'max_depth': 2, 'min_samples_split': 2}\n",
      "Mean F1 socres: 0.9011572180197321\n",
      "Mean Precision: 0.923279950024136\n",
      "Mean Recall: 0.882392026578073\n",
      "Mean Accuracy: 0.9279614966620089\n",
      "Hyperparameters: {'criterion': 'gini', 'max_depth': 2, 'min_samples_split': 5}\n",
      "Mean F1 socres: 0.9022552811583626\n",
      "Mean Precision: 0.9138355055796916\n",
      "Mean Recall: 0.8916943521594684\n",
      "Mean Accuracy: 0.9279614966620089\n",
      "Hyperparameters: {'criterion': 'gini', 'max_depth': 2, 'min_samples_split': 10}\n",
      "Mean F1 socres: 0.9011572180197321\n",
      "Mean Precision: 0.923279950024136\n",
      "Mean Recall: 0.882392026578073\n",
      "Mean Accuracy: 0.9279614966620089\n",
      "Hyperparameters: {'criterion': 'gini', 'max_depth': 2, 'min_samples_split': 20}\n",
      "Mean F1 socres: 0.9022552811583626\n",
      "Mean Precision: 0.9138355055796916\n",
      "Mean Recall: 0.8916943521594684\n",
      "Mean Accuracy: 0.9279614966620089\n",
      "Hyperparameters: {'criterion': 'gini', 'max_depth': 3, 'min_samples_split': 2}\n",
      "Mean F1 socres: 0.8975533618150371\n",
      "Mean Precision: 0.9162997616890438\n",
      "Mean Recall: 0.882281284606866\n",
      "Mean Accuracy: 0.924375097034622\n",
      "Hyperparameters: {'criterion': 'gini', 'max_depth': 3, 'min_samples_split': 5}\n",
      "Mean F1 socres: 0.8953251173103697\n",
      "Mean Precision: 0.9115561719454541\n",
      "Mean Recall: 0.882281284606866\n",
      "Mean Accuracy: 0.9226207110697097\n",
      "Hyperparameters: {'criterion': 'gini', 'max_depth': 3, 'min_samples_split': 10}\n",
      "Mean F1 socres: 0.8889819332436083\n",
      "Mean Precision: 0.8973149231920102\n",
      "Mean Recall: 0.882281284606866\n",
      "Mean Accuracy: 0.9173575531749728\n",
      "Hyperparameters: {'criterion': 'gini', 'max_depth': 3, 'min_samples_split': 20}\n",
      "Mean F1 socres: 0.8947685516884547\n",
      "Mean Precision: 0.9161496115388937\n",
      "Mean Recall: 0.8776301218161683\n",
      "Mean Accuracy: 0.9226207110697097\n",
      "Hyperparameters: {'criterion': 'gini', 'max_depth': 5, 'min_samples_split': 2}\n",
      "Mean F1 socres: 0.9027156244023715\n",
      "Mean Precision: 0.8930815232164478\n",
      "Mean Recall: 0.915171650055371\n",
      "Mean Accuracy: 0.9261605340785591\n",
      "Hyperparameters: {'criterion': 'gini', 'max_depth': 5, 'min_samples_split': 5}\n",
      "Mean F1 socres: 0.902456267015628\n",
      "Mean Precision: 0.8969019200830306\n",
      "Mean Recall: 0.9104097452934663\n",
      "Mean Accuracy: 0.9261450085390466\n",
      "Hyperparameters: {'criterion': 'gini', 'max_depth': 5, 'min_samples_split': 10}\n",
      "Mean F1 socres: 0.8933523092849638\n",
      "Mean Precision: 0.8835577136926384\n",
      "Mean Recall: 0.9057585825027685\n",
      "Mean Accuracy: 0.9191429902189101\n",
      "Hyperparameters: {'criterion': 'gini', 'max_depth': 5, 'min_samples_split': 20}\n",
      "Mean F1 socres: 0.8947536669375749\n",
      "Mean Precision: 0.9163019871257857\n",
      "Mean Recall: 0.8774086378737541\n",
      "Mean Accuracy: 0.9226207110697097\n",
      "Hyperparameters: {'criterion': 'gini', 'max_depth': 10, 'min_samples_split': 2}\n",
      "Mean F1 socres: 0.8902817027868959\n",
      "Mean Precision: 0.8687610299108556\n",
      "Mean Recall: 0.9150609080841638\n",
      "Mean Accuracy: 0.915618692749573\n",
      "Hyperparameters: {'criterion': 'gini', 'max_depth': 10, 'min_samples_split': 5}\n",
      "Mean F1 socres: 0.8904476301073927\n",
      "Mean Precision: 0.8878555080968157\n",
      "Mean Recall: 0.896234772978959\n",
      "Mean Accuracy: 0.9173730787144854\n",
      "Hyperparameters: {'criterion': 'gini', 'max_depth': 10, 'min_samples_split': 10}\n",
      "Mean F1 socres: 0.9031080524563505\n",
      "Mean Precision: 0.8959970796829371\n",
      "Mean Recall: 0.9151716500553709\n",
      "Mean Accuracy: 0.9261450085390466\n",
      "Hyperparameters: {'criterion': 'gini', 'max_depth': 10, 'min_samples_split': 20}\n",
      "Mean F1 socres: 0.897886197058057\n",
      "Mean Precision: 0.9121941565737961\n",
      "Mean Recall: 0.8869324473975636\n",
      "Mean Accuracy: 0.924375097034622\n",
      "Hyperparameters: {'criterion': 'gini', 'max_depth': 20, 'min_samples_split': 2}\n",
      "Mean F1 socres: 0.8840298160600316\n",
      "Mean Precision: 0.8743910470259717\n",
      "Mean Recall: 0.896234772978959\n",
      "Mean Accuracy: 0.9120943952802361\n",
      "Hyperparameters: {'criterion': 'gini', 'max_depth': 20, 'min_samples_split': 5}\n",
      "Mean F1 socres: 0.888741773132017\n",
      "Mean Precision: 0.8790368077692936\n",
      "Mean Recall: 0.901107419712071\n",
      "Mean Accuracy: 0.9156031672100605\n",
      "Hyperparameters: {'criterion': 'gini', 'max_depth': 20, 'min_samples_split': 10}\n",
      "Mean F1 socres: 0.8889078648405194\n",
      "Mean Precision: 0.8793910470259718\n",
      "Mean Recall: 0.9009966777408638\n",
      "Mean Accuracy: 0.9156031672100605\n",
      "Hyperparameters: {'criterion': 'gini', 'max_depth': 20, 'min_samples_split': 20}\n",
      "Mean F1 socres: 0.8893147684866284\n",
      "Mean Precision: 0.8932093180767623\n",
      "Mean Recall: 0.8869324473975636\n",
      "Mean Accuracy: 0.9173575531749728\n",
      "Hyperparameters: {'criterion': 'gini', 'max_depth': 30, 'min_samples_split': 2}\n",
      "Mean F1 socres: 0.89727148288826\n",
      "Mean Precision: 0.8795717403164212\n",
      "Mean Recall: 0.9199335548172758\n",
      "Mean Accuracy: 0.9208663251047973\n",
      "Hyperparameters: {'criterion': 'gini', 'max_depth': 30, 'min_samples_split': 5}\n",
      "Mean F1 socres: 0.883990562858106\n",
      "Mean Precision: 0.8761877212347278\n",
      "Mean Recall: 0.896124031007752\n",
      "Mean Accuracy: 0.9120943952802361\n",
      "Hyperparameters: {'criterion': 'gini', 'max_depth': 30, 'min_samples_split': 10}\n",
      "Mean F1 socres: 0.8990574996752274\n",
      "Mean Precision: 0.8883928785278032\n",
      "Mean Recall: 0.9151716500553709\n",
      "Mean Accuracy: 0.9226207110697097\n",
      "Hyperparameters: {'criterion': 'gini', 'max_depth': 30, 'min_samples_split': 20}\n",
      "Mean F1 socres: 0.8893147684866284\n",
      "Mean Precision: 0.8932093180767623\n",
      "Mean Recall: 0.8869324473975636\n",
      "Mean Accuracy: 0.9173575531749728\n",
      "Hyperparameters: {'criterion': 'entropy', 'max_depth': 2, 'min_samples_split': 2}\n",
      "Mean F1 socres: 0.8917539382081863\n",
      "Mean Precision: 0.8582500350427292\n",
      "Mean Recall: 0.9346622369878184\n",
      "Mean Accuracy: 0.915618692749573\n",
      "Hyperparameters: {'criterion': 'entropy', 'max_depth': 2, 'min_samples_split': 5}\n",
      "Mean F1 socres: 0.8889197136092559\n",
      "Mean Precision: 0.8613845143147211\n",
      "Mean Recall: 0.9251384274640089\n",
      "Mean Accuracy: 0.9138643067846607\n",
      "Hyperparameters: {'criterion': 'entropy', 'max_depth': 2, 'min_samples_split': 10}\n",
      "Mean F1 socres: 0.893938812157766\n",
      "Mean Precision: 0.8627796517674678\n",
      "Mean Recall: 0.9346622369878184\n",
      "Mean Accuracy: 0.9173730787144854\n",
      "Hyperparameters: {'criterion': 'entropy', 'max_depth': 2, 'min_samples_split': 20}\n",
      "Mean F1 socres: 0.893938812157766\n",
      "Mean Precision: 0.8627796517674678\n",
      "Mean Recall: 0.9346622369878184\n",
      "Mean Accuracy: 0.9173730787144854\n",
      "Hyperparameters: {'criterion': 'entropy', 'max_depth': 3, 'min_samples_split': 2}\n",
      "Mean F1 socres: 0.9078921498908196\n",
      "Mean Precision: 0.924639186440275\n",
      "Mean Recall: 0.8971207087486157\n",
      "Mean Accuracy: 0.9332557056357709\n",
      "Hyperparameters: {'criterion': 'entropy', 'max_depth': 3, 'min_samples_split': 5}\n",
      "Mean F1 socres: 0.9078921498908196\n",
      "Mean Precision: 0.924639186440275\n",
      "Mean Recall: 0.8971207087486157\n",
      "Mean Accuracy: 0.9332557056357709\n",
      "Hyperparameters: {'criterion': 'entropy', 'max_depth': 3, 'min_samples_split': 10}\n",
      "Mean F1 socres: 0.9101073397642374\n",
      "Mean Precision: 0.9298944416955303\n",
      "Mean Recall: 0.8971207087486157\n",
      "Mean Accuracy: 0.935010091600683\n",
      "Hyperparameters: {'criterion': 'entropy', 'max_depth': 3, 'min_samples_split': 20}\n",
      "Mean F1 socres: 0.8859261168084698\n",
      "Mean Precision: 0.9153936995004404\n",
      "Mean Recall: 0.8691029900332227\n",
      "Mean Accuracy: 0.9192206179164726\n",
      "Hyperparameters: {'criterion': 'entropy', 'max_depth': 5, 'min_samples_split': 2}\n",
      "Mean F1 socres: 0.910510582498412\n",
      "Mean Precision: 0.9081775216605721\n",
      "Mean Recall: 0.9155038759689923\n",
      "Mean Accuracy: 0.9332401800962584\n",
      "Hyperparameters: {'criterion': 'entropy', 'max_depth': 5, 'min_samples_split': 5}\n",
      "Mean F1 socres: 0.9170415701806721\n",
      "Mean Precision: 0.9224267811729895\n",
      "Mean Recall: 0.9156146179401994\n",
      "Mean Accuracy: 0.9385033379909953\n",
      "Hyperparameters: {'criterion': 'entropy', 'max_depth': 5, 'min_samples_split': 10}\n",
      "Mean F1 socres: 0.9064582093303175\n",
      "Mean Precision: 0.9176002089045567\n",
      "Mean Recall: 0.9017718715393134\n",
      "Mean Accuracy: 0.9314857941313461\n",
      "Hyperparameters: {'criterion': 'entropy', 'max_depth': 5, 'min_samples_split': 20}\n",
      "Mean F1 socres: 0.8925636421784985\n",
      "Mean Precision: 0.9177997091040571\n",
      "Mean Recall: 0.873421926910299\n",
      "Mean Accuracy: 0.9227138643067848\n",
      "Hyperparameters: {'criterion': 'entropy', 'max_depth': 10, 'min_samples_split': 2}\n",
      "Mean F1 socres: 0.9024154295654523\n",
      "Mean Precision: 0.9077310745150402\n",
      "Mean Recall: 0.9016611295681063\n",
      "Mean Accuracy: 0.9279459711224964\n",
      "Hyperparameters: {'criterion': 'entropy', 'max_depth': 10, 'min_samples_split': 5}\n",
      "Mean F1 socres: 0.9000421238588133\n",
      "Mean Precision: 0.918926137672346\n",
      "Mean Recall: 0.8877076411960134\n",
      "Mean Accuracy: 0.9279770222015215\n",
      "Hyperparameters: {'criterion': 'entropy', 'max_depth': 10, 'min_samples_split': 10}\n",
      "Mean F1 socres: 0.9063181939685547\n",
      "Mean Precision: 0.9162352075395553\n",
      "Mean Recall: 0.9017718715393134\n",
      "Mean Accuracy: 0.9314857941313461\n",
      "Hyperparameters: {'criterion': 'entropy', 'max_depth': 10, 'min_samples_split': 20}\n",
      "Mean F1 socres: 0.8925636421784985\n",
      "Mean Precision: 0.9177997091040571\n",
      "Mean Recall: 0.873421926910299\n",
      "Mean Accuracy: 0.9227138643067848\n",
      "Hyperparameters: {'criterion': 'entropy', 'max_depth': 20, 'min_samples_split': 2}\n",
      "Mean F1 socres: 0.9112383014276185\n",
      "Mean Precision: 0.9206835615350328\n",
      "Mean Recall: 0.906423034330011\n",
      "Mean Accuracy: 0.9349945660611707\n",
      "Hyperparameters: {'criterion': 'entropy', 'max_depth': 20, 'min_samples_split': 5}\n",
      "Mean F1 socres: 0.9166350744261689\n",
      "Mean Precision: 0.9267703546600682\n",
      "Mean Recall: 0.9108527131782946\n",
      "Mean Accuracy: 0.9385033379909953\n",
      "Hyperparameters: {'criterion': 'entropy', 'max_depth': 20, 'min_samples_split': 10}\n",
      "Mean F1 socres: 0.916559714795009\n",
      "Mean Precision: 0.9253309523698435\n",
      "Mean Recall: 0.9108527131782946\n",
      "Mean Accuracy: 0.9385033379909953\n",
      "Hyperparameters: {'criterion': 'entropy', 'max_depth': 20, 'min_samples_split': 20}\n",
      "Mean F1 socres: 0.8925636421784985\n",
      "Mean Precision: 0.9177997091040571\n",
      "Mean Recall: 0.873421926910299\n",
      "Mean Accuracy: 0.9227138643067848\n",
      "Hyperparameters: {'criterion': 'entropy', 'max_depth': 30, 'min_samples_split': 2}\n",
      "Mean F1 socres: 0.9150187966693922\n",
      "Mean Precision: 0.9118784714755023\n",
      "Mean Recall: 0.9203765227021041\n",
      "Mean Accuracy: 0.9367489520260829\n",
      "Hyperparameters: {'criterion': 'entropy', 'max_depth': 30, 'min_samples_split': 5}\n",
      "Mean F1 socres: 0.9005105232458213\n",
      "Mean Precision: 0.909512987012987\n",
      "Mean Recall: 0.8966777408637873\n",
      "Mean Accuracy: 0.9261915851575843\n",
      "Hyperparameters: {'criterion': 'entropy', 'max_depth': 30, 'min_samples_split': 10}\n",
      "Mean F1 socres: 0.9016670311778571\n",
      "Mean Precision: 0.9116897529941008\n",
      "Mean Recall: 0.8970099667774086\n",
      "Mean Accuracy: 0.9279770222015216\n",
      "Hyperparameters: {'criterion': 'entropy', 'max_depth': 30, 'min_samples_split': 20}\n",
      "Mean F1 socres: 0.8977770683834858\n",
      "Mean Precision: 0.9190256603300082\n",
      "Mean Recall: 0.8829457364341087\n",
      "Mean Accuracy: 0.9262226362366093\n",
      "Best parameters: {'criterion': 'entropy', 'max_depth': 2, 'min_samples_split': 2}\n",
      "Best recall: 0.9346622369878184\n"
     ]
    }
   ],
   "source": [
    "param_clf = {\n",
    "    'criterion': ['gini', 'entropy'],\n",
    "    'max_depth': [2, 3, 5, 10, 20, 30],\n",
    "    'min_samples_split': [2, 5, 10, 20]\n",
    "}\n",
    "\n",
    "clf = DecisionTreeClassifier()\n",
    "\n",
    "grid_search = GridSearchCV(clf, param_clf, cv=5, scoring=scoring, refit='recall', return_train_score=True)\n",
    "grid_search.fit(X, y)\n",
    "\n",
    "results = grid_search.cv_results_\n",
    "\n",
    "# Print metrics for each hyperparameter set\n",
    "for i in range(len(results['params'])):\n",
    "    print(f\"Hyperparameters: {results['params'][i]}\")\n",
    "    print(f\"Mean F1 socres: {results['mean_test_f1'][i]}\")\n",
    "    print(f\"Mean Precision: {results['mean_test_precision'][i]}\")\n",
    "    print(f\"Mean Recall: {results['mean_test_recall'][i]}\")\n",
    "    print(f\"Mean Accuracy: {results['mean_test_accuracy'][i]}\")\n",
    "\n",
    "best_param = grid_search.best_params_\n",
    "best_recall = grid_search.best_score_\n",
    "\n",
    "# Get the best results\n",
    "print(f\"Best parameters: {best_param}\")\n",
    "print(f\"Best recall: {best_recall}\")\n"
   ],
   "metadata": {
    "collapsed": false,
    "ExecuteTime": {
     "end_time": "2024-09-16T15:30:06.719056900Z",
     "start_time": "2024-09-16T15:30:00.632155500Z"
    }
   },
   "id": "ed713296dcf90713"
  },
  {
   "cell_type": "markdown",
   "source": [
    "<h1>(d) KNN<h1>"
   ],
   "metadata": {
    "collapsed": false
   },
   "id": "761eb3a53ffc4cd8"
  },
  {
   "cell_type": "code",
   "execution_count": 6,
   "outputs": [
    {
     "name": "stdout",
     "output_type": "stream",
     "text": [
      "Hyperparameters: {'n_neighbors': 1, 'weights': 'distance'}\n",
      "Mean F1 socres: 0.8684785133565622\n",
      "Mean Precision: 0.895097515097515\n",
      "Mean Recall: 0.8447397563676633\n",
      "Mean Accuracy: 0.9051079024996118\n",
      "Hyperparameters: {'n_neighbors': 3, 'weights': 'distance'}\n",
      "Mean F1 socres: 0.8940139444738101\n",
      "Mean Precision: 0.9257031132981218\n",
      "Mean Recall: 0.8685492801771872\n",
      "Mean Accuracy: 0.9244216736531593\n",
      "Hyperparameters: {'n_neighbors': 5, 'weights': 'distance'}\n",
      "Mean F1 socres: 0.9018140640826505\n",
      "Mean Precision: 0.9348896631823461\n",
      "Mean Recall: 0.8730897009966778\n",
      "Mean Accuracy: 0.9297003570874087\n",
      "Hyperparameters: {'n_neighbors': 8, 'weights': 'distance'}\n",
      "Mean F1 socres: 0.8925832948518814\n",
      "Mean Precision: 0.9338182346109175\n",
      "Mean Recall: 0.8591362126245847\n",
      "Mean Accuracy: 0.924437199192672\n",
      "Hyperparameters: {'n_neighbors': 10, 'weights': 'distance'}\n",
      "Mean F1 socres: 0.8974025719603151\n",
      "Mean Precision: 0.9386962833914053\n",
      "Mean Recall: 0.8638981173864895\n",
      "Mean Accuracy: 0.9279459711224967\n",
      "Hyperparameters: {'n_neighbors': 15, 'weights': 'distance'}\n",
      "Mean F1 socres: 0.9003582369849455\n",
      "Mean Precision: 0.9355216802168022\n",
      "Mean Recall: 0.873421926910299\n",
      "Mean Accuracy: 0.9297158826269213\n",
      "Hyperparameters: {'n_neighbors': 20, 'weights': 'distance'}\n",
      "Mean F1 socres: 0.8999923833264092\n",
      "Mean Precision: 0.9402585223220653\n",
      "Mean Recall: 0.8686600221483942\n",
      "Mean Accuracy: 0.9297158826269213\n",
      "Hyperparameters: {'n_neighbors': 50, 'weights': 'distance'}\n",
      "Mean F1 socres: 0.8811228744155575\n",
      "Mean Precision: 0.9524513676237815\n",
      "Mean Recall: 0.8263565891472868\n",
      "Mean Accuracy: 0.9192050923769601\n",
      "Hyperparameters: {'n_neighbors': 80, 'weights': 'distance'}\n",
      "Mean F1 socres: 0.8779263410939855\n",
      "Mean Precision: 0.9564367816091954\n",
      "Mean Recall: 0.8169435215946844\n",
      "Mean Accuracy: 0.9174507064120478\n",
      "Best parameters: {'n_neighbors': 15, 'weights': 'distance'}\n",
      "Best recall: 0.873421926910299\n"
     ]
    }
   ],
   "source": [
    "param_knn = {\n",
    "    'n_neighbors': [1, 3, 5, 8, 10, 15, 20, 50, 80],\n",
    "    'weights': ['uniform', 'distance']\n",
    "}\n",
    "\n",
    "knn = KNeighborsClassifier()\n",
    "\n",
    "grid_search = GridSearchCV(knn, param_knn, cv=5, scoring=scoring, refit='recall', return_train_score=True)\n",
    "grid_search.fit(X, y)\n",
    "\n",
    "results = grid_search.cv_results_\n",
    "\n",
    "# Print the metrics for each hyperparameter set\n",
    "for i in range(len(results['params'])):\n",
    "    if np.isnan(results['mean_test_f1'][i]) != 1 and np.isnan(results['mean_test_precision'][i]) != 1 and np.isnan(results['mean_test_recall'][i]) != 1 and np.isnan(results['mean_test_accuracy'][i]) != 1 :\n",
    "        print(f\"Hyperparameters: {results['params'][i]}\")\n",
    "        print(f\"Mean F1 socres: {results['mean_test_f1'][i]}\")\n",
    "        print(f\"Mean Precision: {results['mean_test_precision'][i]}\")\n",
    "        print(f\"Mean Recall: {results['mean_test_recall'][i]}\")\n",
    "        print(f\"Mean Accuracy: {results['mean_test_accuracy'][i]}\")\n",
    "\n",
    "\n",
    "best_param = grid_search.best_params_\n",
    "best_recall = grid_search.best_score_\n",
    "\n",
    "# Get the best results\n",
    "print(f\"Best parameters: {best_param}\")\n",
    "print(f\"Best recall: {best_recall}\")"
   ],
   "metadata": {
    "collapsed": false,
    "ExecuteTime": {
     "end_time": "2024-09-16T15:30:10.379507300Z",
     "start_time": "2024-09-16T15:30:06.689337400Z"
    }
   },
   "id": "21283c62b90b5854"
  },
  {
   "cell_type": "markdown",
   "source": [
    "<h1>(e) Miscellaneous<h1>"
   ],
   "metadata": {
    "collapsed": false
   },
   "id": "39043170987a707a"
  },
  {
   "cell_type": "markdown",
   "source": [
    "We care much more about false negative rate since incorrectly classify \"Malignant\" to \"Benign\" is really dangerous to one's life. And recall rate can give us information on how serious is false negative in this algorithm."
   ],
   "metadata": {
    "collapsed": false
   },
   "id": "b6afbeb9b30d910e"
  },
  {
   "cell_type": "markdown",
   "source": [
    "<h1>(f) Comparison <h1>"
   ],
   "metadata": {
    "collapsed": false
   },
   "id": "9ec733eb85277878"
  },
  {
   "cell_type": "code",
   "execution_count": 7,
   "outputs": [
    {
     "name": "stdout",
     "output_type": "stream",
     "text": [
      "Accuracy: 0.9473684210526315\n",
      "Precision: 1.0\n",
      "Recall: 0.8636363636363636\n",
      "F1 Scores: 0.9268292682926829\n"
     ]
    }
   ],
   "source": [
    "from sklearn.preprocessing import StandardScaler\n",
    "from sklearn.svm import SVC\n",
    "from sklearn.metrics import accuracy_score, precision_score, recall_score, f1_score\n",
    "\n",
    "X_train, X_test, y_train, y_test = train_test_split(X, y, test_size=0.2)\n",
    "\n",
    "# Normalization\n",
    "X_train = StandardScaler().fit_transform(X_train)\n",
    "X_test = StandardScaler().fit_transform(X_test)\n",
    "\n",
    "param_svm = {\n",
    "    'kernel': ['rbf','linear'],\n",
    "    'C': [0.1, 1, 10]\n",
    "}\n",
    "\n",
    "svm = SVC()\n",
    "\n",
    "grid_search = GridSearchCV(svm, param_svm, cv=5, scoring=scoring, refit='recall', return_train_score=True)\n",
    "grid_search.fit(X_train, y_train)\n",
    "y_pred = grid_search.best_estimator_.predict(X_test)\n",
    "\n",
    "print(\"Accuracy:\", accuracy_score(y_test, y_pred))\n",
    "print(\"Precision:\", precision_score(y_test, y_pred))\n",
    "print(\"Recall:\", recall_score(y_test, y_pred))\n",
    "print(\"F1 Scores:\", f1_score(y_test, y_pred))"
   ],
   "metadata": {
    "collapsed": false,
    "ExecuteTime": {
     "end_time": "2024-09-16T15:30:10.995761600Z",
     "start_time": "2024-09-16T15:30:10.377222700Z"
    }
   },
   "id": "7707a5f1c5064ad3"
  },
  {
   "cell_type": "markdown",
   "source": [
    "No. I would prefer logistic model because it is much simpler and the estimation accurarcy is quite similar."
   ],
   "metadata": {
    "collapsed": false
   },
   "id": "97e126767d734e40"
  }
 ],
 "metadata": {
  "kernelspec": {
   "display_name": "Python 3 (ipykernel)",
   "language": "python",
   "name": "python3"
  },
  "language_info": {
   "codemirror_mode": {
    "name": "ipython",
    "version": 3
   },
   "file_extension": ".py",
   "mimetype": "text/x-python",
   "name": "python",
   "nbconvert_exporter": "python",
   "pygments_lexer": "ipython3",
   "version": "3.11.5"
  }
 },
 "nbformat": 4,
 "nbformat_minor": 5
}
